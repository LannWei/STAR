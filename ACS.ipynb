{
 "cells": [
  {
   "cell_type": "code",
   "execution_count": null,
   "metadata": {},
   "outputs": [],
   "source": [
    "# Example of calculating the average cosinesimilarities for one sample\n",
    "import numpy as np\n",
    "import torch\n",
    "torch.cuda.set_device(1)\n",
    "import matplotlib.pyplot as plt\n",
    "\n",
    "cls_map = []\n",
    "cls_map_a = []\n",
    "\n",
    "for i in range(12):\n",
    "    b = torch.load(\"/home/recordattn/cls_attn_tiny{}.pth\".format(i),map_location=\"cpu\")\n",
    "    cls_map_a.append(b)\n",
    "    b = b.flatten()\n",
    "    cls_map.append(b)\n",
    "    \n",
    "def calculate_cosine_similarity(patch_representations):\n",
    "    normalized_patches = F.normalize(patch_representations, p=2, dim=1)\n",
    "    cosine_similarities = torch.mm(normalized_patches, normalized_patches.t()) #([196, 196])\n",
    "    return cosine_similarities\n",
    "\n",
    "def average_cosine_similarity(cosine_similarities):\n",
    "    valid_cosine_similarities = cosine_similarities - torch.eye(cosine_similarities.size(0), device=cosine_similarities.device)\n",
    "    average_similarity = torch.mean(valid_cosine_similarities)\n",
    "    return average_similarity.item()\n",
    "\n",
    "average_cosine_similarities_per_layer = []\n",
    "for patch_representations in cls_map_a:\n",
    "    cosine_similarities = calculate_cosine_similarity(patch_representations)\n",
    "    average_similarity = average_cosine_similarity(cosine_similarities)\n",
    "    average_cosine_similarities_per_layer.append(average_similarity)\n",
    "\n",
    "print(average_cosine_similarities_per_layer)"
   ]
  },
  {
   "cell_type": "code",
   "execution_count": null,
   "metadata": {},
   "outputs": [],
   "source": [
    "av_cos_a = np.array(average_cosine_similarities_per_layer)\n",
    "\n",
    "keep_ratio_min = 0.6\n",
    "alpha = (1-keep_ratio_min)/(av_cos_a.min()-av_cos_a.max()) \n",
    "beta = 1 - alpha*av_cos_a.min()\n",
    "print(alpha,beta)\n",
    "\n",
    "keep_ratio = []\n",
    "for i in range(12):\n",
    "    temp = alpha*av_cos_a[i] + beta\n",
    "    keep_ratio.append(temp)\n",
    "\n",
    "import matplotlib.pyplot as plt    \n",
    "plt.figure(figsize=(15, 10), dpi=100)\n",
    "label = ['1', '2', '3', '4', '5', '6', '7', '8', '9', '10', '11', '12']\n",
    "plt.plot(label, keep_ratio)\n",
    "plt.show()\n",
    "\n",
    "print(keep_ratio)"
   ]
  }
 ],
 "metadata": {
  "kernelspec": {
   "display_name": "new",
   "language": "python",
   "name": "new"
  },
  "language_info": {
   "codemirror_mode": {
    "name": "ipython",
    "version": 3
   },
   "file_extension": ".py",
   "mimetype": "text/x-python",
   "name": "python",
   "nbconvert_exporter": "python",
   "pygments_lexer": "ipython3",
   "version": "3.7.11"
  },
  "orig_nbformat": 4
 },
 "nbformat": 4,
 "nbformat_minor": 2
}
